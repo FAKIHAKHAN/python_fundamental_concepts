{
  "nbformat": 4,
  "nbformat_minor": 0,
  "metadata": {
    "colab": {
      "provenance": []
    },
    "kernelspec": {
      "name": "python3",
      "display_name": "Python 3"
    },
    "language_info": {
      "name": "python"
    }
  },
  "cells": [
    {
      "cell_type": "markdown",
      "source": [
        "Family-Themed Python Basics 👨‍👩‍👧‍👦\n",
        "-------------------------------------------------\n",
        "Welcome! We'll learn Python step-by-step through a simple family story.\n",
        "Each section has a tiny narrative + beginner-friendly code.\n",
        "Feel free to run sections independently."
      ],
      "metadata": {
        "id": "SkPep5YQIsY3"
      }
    },
    {
      "cell_type": "markdown",
      "source": [
        "Mom and Dad put their amounts together to plan groceries.\n",
        "We'll compute: sum, difference, product, quotient, remainder,\n",
        "compare who brought more, and check input types."
      ],
      "metadata": {
        "id": "7gVkGoDMI1bb"
      }
    },
    {
      "cell_type": "code",
      "source": [
        "mom_amount = float(input(\"Enter Mom's amount: \"))\n",
        "dad_amount = float(input(\"Enter Dad's amount: \"))\n",
        "\n",
        "family_sum = mom_amount + dad_amount\n",
        "family_diff = abs(mom_amount - dad_amount)\n",
        "family_prod = mom_amount * dad_amount\n",
        "family_quotient = mom_amount / dad_amount  # true division\n",
        "family_remainder = mom_amount % dad_amount  # remainder (works with floats too)"
      ],
      "metadata": {
        "id": "gHHDt-BlIqhF"
      },
      "execution_count": null,
      "outputs": []
    },
    {
      "cell_type": "code",
      "source": [
        "print(f\"\\nSum: {family_sum}\")\n",
        "print(f\"Difference: {family_diff}\")\n",
        "print(f\"Product: {family_prod}\")\n",
        "print(f\"Quotient (/): {family_quotient}\")\n",
        "print(f\"Remainder (%): {family_remainder}\")\n",
        "\n",
        "print(\"\\n(Formatted to 2 decimal places)\")\n",
        "print(f\"Sum: {family_sum:.2f}\")\n",
        "print(f\"Difference: {family_diff:.2f}\")\n",
        "print(f\"Product: {family_prod:.2f}\")\n",
        "print(f\"Quotient: {family_quotient:.2f}\")\n",
        "print(f\"Remainder: {family_remainder:.2f}\")"
      ],
      "metadata": {
        "id": "MlAIOlPdIqU6"
      },
      "execution_count": null,
      "outputs": []
    },
    {
      "cell_type": "code",
      "source": [
        "# Comparison + logical operators\n",
        "if mom_amount == dad_amount:\n",
        "    print(f\"\\nEqual: Mom's amount ({mom_amount}) equals Dad's amount ({dad_amount}).\")\n",
        "elif mom_amount > dad_amount:\n",
        "    print(f\"\\nMom contributed more: {mom_amount} > {dad_amount}.\")\n",
        "else:\n",
        "    print(f\"\\nDad contributed more: {dad_amount} > {mom_amount}.\")\n",
        "\n",
        "# Show types\n",
        "print(\"\\nTypes of inputs:\")\n",
        "print(type(mom_amount))\n",
        "print(type(dad_amount))"
      ],
      "metadata": {
        "id": "3lv4bFW2JEPF"
      },
      "execution_count": null,
      "outputs": []
    },
    {
      "cell_type": "markdown",
      "source": [
        "\n",
        "A sibling writes a word on a sticky note.\n",
        "We'll see its length, uppercase, lowercase, and check palindrome.\n"
      ],
      "metadata": {
        "id": "r5U-S_DzJOPp"
      }
    },
    {
      "cell_type": "code",
      "source": [
        "note_text = input(\"Enter any word or short phrase: \")\n",
        "print(f\"Length: {len(note_text)}\")\n",
        "print(f\"Upper: {note_text.upper()}\")\n",
        "print(f\"Lower: {note_text.lower()}\")\n",
        "\n",
        "_clean = ''.join(ch.lower() for ch in note_text if ch.isalnum())\n",
        "if _clean == _clean[::-1]:\n",
        "    print(\"It's a palindrome!\")\n",
        "else:\n",
        "    print(\"Not a palindrome.\")"
      ],
      "metadata": {
        "id": "RQO3EIPqJLK6"
      },
      "execution_count": null,
      "outputs": []
    },
    {
      "cell_type": "markdown",
      "source": [
        "Let's collect the ages of family members, then sort, append, and remove."
      ],
      "metadata": {
        "id": "dCg7DCiiJbCS"
      }
    },
    {
      "cell_type": "code",
      "source": [
        "family_size = int(input(\"How many family members (≥ 5 recommended)? \"))\n",
        "ages = []\n",
        "for i in range(family_size):\n",
        "    age = int(input(f\"Enter age for member #{i+1}: \"))\n",
        "    ages.append(age)\n",
        "\n",
        "print(\"\\nOriginal ages:\", ages)\n",
        "ages.sort()\n",
        "print(\"Sorted ages:\", ages)\n",
        "\n",
        "# A cousin came to visit ! Append cousins age\n",
        "cousin_age = int(input(\"Enter cousin's age: \"))\n",
        "ages.append(cousin_age)\n",
        "print(\"After appending cousins age :\", ages)\n"
      ],
      "metadata": {
        "colab": {
          "base_uri": "https://localhost:8080/"
        },
        "id": "0Mij3rOaJkb7",
        "outputId": "579fd4b2-a9a4-4803-fd1d-3fd2995850c6"
      },
      "execution_count": null,
      "outputs": [
        {
          "output_type": "stream",
          "name": "stdout",
          "text": [
            "How many family members (≥ 5 recommended)? 6\n",
            "Enter age for member #1: 26\n",
            "Enter age for member #2: 29\n",
            "Enter age for member #3: 14\n",
            "Enter age for member #4: 11\n",
            "Enter age for member #5: 85\n",
            "Enter age for member #6: 3\n",
            "\n",
            "Original ages: [26, 29, 14, 11, 85, 3]\n",
            "Sorted ages: [3, 11, 14, 26, 29, 85]\n",
            "Enter cousin's age: 12\n",
            "After appending cousins age : [3, 11, 14, 26, 29, 85, 12]\n"
          ]
        }
      ]
    },
    {
      "cell_type": "code",
      "source": [
        "if cousin_age in ages:\n",
        "    ages.remove(cousin_age)\n",
        "    print(\"After removing cousins age :\", ages)\n",
        "\n",
        "# Pop the youngest (index 0 after sort)\n",
        "if ages:\n",
        "    popped = ages.pop(0)\n",
        "    print(f\"After popping youngest age ({popped}):\", ages)"
      ],
      "metadata": {
        "colab": {
          "base_uri": "https://localhost:8080/"
        },
        "id": "UaOZVTZBKukM",
        "outputId": "64159cb2-dd38-4e3f-bc52-4787a02a8360"
      },
      "execution_count": null,
      "outputs": [
        {
          "output_type": "stream",
          "name": "stdout",
          "text": [
            "After removing cousins age : [3, 11, 14, 26, 29, 85]\n",
            "After popping youngest age (3): [11, 14, 26, 29, 85]\n"
          ]
        }
      ]
    },
    {
      "cell_type": "markdown",
      "source": [
        "Each member has a unique ID number. We'll store as a tuple (unchangeable),\n",
        "then demonstrate that tuples cannot be sorted in-place."
      ],
      "metadata": {
        "id": "-viLxIMWLBNv"
      }
    },
    {
      "cell_type": "code",
      "source": [
        "id_count = int(input(\"How many ID numbers will you enter? \"))\n",
        "id_list = []\n",
        "for i in range(id_count):\n",
        "    id_list.append(int(input(f\"Enter ID for member #{i+1}: \")))\n",
        "\n",
        "family_ids = tuple(id_list)\n",
        "print(\"Family IDs (tuple):\", family_ids)\n",
        "\n",
        "try:\n",
        "    # This will raise AttributeError because tuple has no .sort()\n",
        "    family_ids.sort()  # type: ignore[attr-defined]\n",
        "except AttributeError:\n",
        "    print(\"Tuples are immutable and have no sort() method. Convert to list to sort.\")\n",
        "\n",
        "print(\"Sorted view (without changing the tuple):\", tuple(sorted(family_ids)))"
      ],
      "metadata": {
        "colab": {
          "base_uri": "https://localhost:8080/"
        },
        "id": "tTQpRVWXLIZp",
        "outputId": "ad8790a9-3b4d-442b-f244-5a67c8740e28"
      },
      "execution_count": null,
      "outputs": [
        {
          "output_type": "stream",
          "name": "stdout",
          "text": [
            "How many ID numbers will you enter? 6\n",
            "Enter ID for member #1: 3456\n",
            "Enter ID for member #2: 6789\n",
            "Enter ID for member #3: 3476\n",
            "Enter ID for member #4: 3986\n",
            "Enter ID for member #5: 3097\n",
            "Enter ID for member #6: 3689\n",
            "Family IDs (tuple): (3456, 6789, 3476, 3986, 3097, 3689)\n",
            "Tuples are immutable and have no sort() method. Convert to list to sort.\n",
            "Sorted view (without changing the tuple): (3097, 3456, 3476, 3689, 3986, 6789)\n"
          ]
        }
      ]
    },
    {
      "cell_type": "markdown",
      "source": [
        "We'll track pantry items using a set (no duplicates, order not guaranteed)."
      ],
      "metadata": {
        "id": "Vj-e37TNLZb5"
      }
    },
    {
      "cell_type": "code",
      "source": [
        "pantry_items = {\"rice\", \"lentils\", \"tea\", \"sugar\", \"salt\"}\n",
        "print(\"Initial set:\", pantry_items)\n",
        "pantry_items.add(\"flour\")\n",
        "print(\"After add('flour'):\", pantry_items)\n",
        "pantry_items.add(\"rice\")\n",
        "print(\"After add('rice'):\", pantry_items)\n",
        "pantry_items.discard(\"tea\")  # discard won't error if item missing\n",
        "print(\"After discard('tea'):\", pantry_items)"
      ],
      "metadata": {
        "colab": {
          "base_uri": "https://localhost:8080/"
        },
        "id": "g5jg0oAhLdRA",
        "outputId": "6933bf4f-61ba-4d02-865b-a6adbfa75e84"
      },
      "execution_count": null,
      "outputs": [
        {
          "output_type": "stream",
          "name": "stdout",
          "text": [
            "Initial set: {'salt', 'lentils', 'rice', 'tea', 'sugar'}\n",
            "After add('flour'): {'salt', 'lentils', 'flour', 'rice', 'tea', 'sugar'}\n",
            "After add('rice'): {'salt', 'lentils', 'flour', 'rice', 'tea', 'sugar'}\n",
            "After discard('tea'): {'salt', 'lentils', 'flour', 'rice', 'sugar'}\n"
          ]
        }
      ]
    },
    {
      "cell_type": "markdown",
      "source": [
        "We'll store student names as keys and their marks as values (list of numbers).\n",
        "We'll add, update, and delete an entry; then compute an average on demand."
      ],
      "metadata": {
        "id": "SX_HiqbtMFXd"
      }
    },
    {
      "cell_type": "code",
      "source": [
        "num_class = int(input(\"How many students in the class? \"))\n",
        "class_record = {}\n",
        "for i in range(num_class):\n",
        "    name = input(f\"Enter name for student #{i+1}: \")\n",
        "    marks = []\n",
        "    for j in range(3):\n",
        "        marks.append(float(input(f\"Enter mark #{j+1} for {name}: \")))\n",
        "\n",
        "    class_record[name] = marks"
      ],
      "metadata": {
        "colab": {
          "base_uri": "https://localhost:8080/"
        },
        "id": "4s3AZLg9Nu7i",
        "outputId": "72063e7e-d827-4a23-f06b-cf62fc8f2df0"
      },
      "execution_count": null,
      "outputs": [
        {
          "name": "stdout",
          "output_type": "stream",
          "text": [
            "How many students in the class? 5\n",
            "Enter name for student #1: peter\n",
            "Enter mark #1 for peter: 10\n",
            "Enter mark #2 for peter: 12\n",
            "Enter mark #3 for peter: 18\n",
            "Enter name for student #2: yara\n",
            "Enter mark #1 for yara: 12\n",
            "Enter mark #2 for yara: 17\n",
            "Enter mark #3 for yara: 18\n",
            "Enter name for student #3: lena\n",
            "Enter mark #1 for lena: 12\n",
            "Enter mark #2 for lena: 19\n",
            "Enter mark #3 for lena: 20\n",
            "Enter name for student #4: asad\n",
            "Enter mark #1 for asad: 18\n",
            "Enter mark #2 for asad: 16\n",
            "Enter mark #3 for asad: 19\n",
            "Enter name for student #5: fahad\n",
            "Enter mark #1 for fahad: 19\n",
            "Enter mark #2 for fahad: 12\n",
            "Enter mark #3 for fahad: 13\n"
          ]
        }
      ]
    },
    {
      "cell_type": "code",
      "source": [
        "class_record\n"
      ],
      "metadata": {
        "colab": {
          "base_uri": "https://localhost:8080/"
        },
        "id": "1Qsa5Y0gO5Pf",
        "outputId": "423c70fe-f586-4af3-a2ac-adc93bb15c70"
      },
      "execution_count": null,
      "outputs": [
        {
          "output_type": "execute_result",
          "data": {
            "text/plain": [
              "{'peter': [10.0, 12.0, 18.0],\n",
              " 'yara': [12.0, 17.0, 18.0],\n",
              " 'lena': [12.0, 19.0, 20.0],\n",
              " 'asad': [18.0, 16.0, 19.0],\n",
              " 'fahad': [19.0, 12.0, 13.0]}"
            ]
          },
          "metadata": {},
          "execution_count": 13
        }
      ]
    },
    {
      "cell_type": "markdown",
      "source": [
        "Update 1st marks of 1st student (marks + 5)\n",
        "\n",
        "Delete the students with lowest marks average complete record"
      ],
      "metadata": {
        "id": "6fMrhpTKO85A"
      }
    },
    {
      "cell_type": "code",
      "source": [
        "first_student = list(class_record.keys())[0]   # get the first student's name\n",
        "class_record[first_student][0] += 5            # add 5 to the first mark\n",
        "\n",
        "print(f\"\\nAfter updating {first_student}'s 1st mark (+5):\")\n",
        "print(class_record)\n",
        "\n",
        "averages = {name: sum(marks)/len(marks) for name, marks in class_record.items()}\n",
        "\n",
        "# find lowest average value\n",
        "lowest_avg = min(averages.values())\n",
        "\n",
        "# find all students with that lowest average\n",
        "to_delete = [name for name, avg in averages.items() if avg == lowest_avg]\n",
        "\n",
        "# delete them\n",
        "for student in to_delete:\n",
        "    del class_record[student]\n",
        "\n",
        "print(f\"\\nDeleted student(s) with lowest average ({lowest_avg:.2f}): {to_delete}\")\n",
        "print(\"Final Class Record:\")\n",
        "print(class_record)"
      ],
      "metadata": {
        "colab": {
          "base_uri": "https://localhost:8080/"
        },
        "id": "1W6w9B5XODeu",
        "outputId": "85c2e5a3-1a86-4645-a98d-8c3d93b61ca3"
      },
      "execution_count": null,
      "outputs": [
        {
          "output_type": "stream",
          "name": "stdout",
          "text": [
            "\n",
            "After updating peter's 1st mark (+5):\n",
            "{'peter': [15.0, 12.0, 18.0], 'yara': [12.0, 17.0, 18.0], 'lena': [12.0, 19.0, 20.0], 'asad': [18.0, 16.0, 19.0], 'fahad': [19.0, 12.0, 13.0]}\n",
            "\n",
            "Deleted student(s) with lowest average (14.67): ['fahad']\n",
            "Final Class Record:\n",
            "{'peter': [15.0, 12.0, 18.0], 'yara': [12.0, 17.0, 18.0], 'lena': [12.0, 19.0, 20.0], 'asad': [18.0, 16.0, 19.0]}\n"
          ]
        }
      ]
    },
    {
      "cell_type": "code",
      "source": [
        "for i in range(1, 11):  # 1..10 inclusive\n",
        "    if i == 5:\n",
        "        continue  # skip 5\n",
        "    if i == 8:\n",
        "        break     # stop at 8\n",
        "    print(i)"
      ],
      "metadata": {
        "colab": {
          "base_uri": "https://localhost:8080/"
        },
        "id": "n3AdGjAWQLBZ",
        "outputId": "27eb32bc-a100-45d9-b9e7-4d884fde14ae"
      },
      "execution_count": null,
      "outputs": [
        {
          "output_type": "stream",
          "name": "stdout",
          "text": [
            "1\n",
            "2\n",
            "3\n",
            "4\n",
            "6\n",
            "7\n"
          ]
        }
      ]
    },
    {
      "cell_type": "code",
      "source": [
        "while True:\n",
        "    reply = input(\"Say something (or type 'exit' to stop): \")\n",
        "    if reply.lower() == \"exit\":\n",
        "        break"
      ],
      "metadata": {
        "id": "-EUuev_9QTGS"
      },
      "execution_count": null,
      "outputs": []
    },
    {
      "cell_type": "markdown",
      "source": [
        "We use factorial to count arrangements of candles. Uses recursion."
      ],
      "metadata": {
        "id": "ljfj1ORsQsGU"
      }
    },
    {
      "cell_type": "code",
      "source": [
        "def factorial(n: int) -> int:\n",
        "    if n < 0:\n",
        "        raise ValueError(\"Factorial not defined for negative numbers\")\n",
        "    return 1 if n in (0, 1) else n * factorial(n - 1)\n",
        "\n",
        "try:\n",
        "    candles = int(input(\"Enter number of candles: \"))\n",
        "    print(\"Factorial:\", factorial(candles))\n",
        "except ValueError as e:\n",
        "    print(\"Error:\", e)"
      ],
      "metadata": {
        "id": "VgZHt3-QQWYU"
      },
      "execution_count": null,
      "outputs": []
    },
    {
      "cell_type": "code",
      "source": [
        "def family_sum(*values):\n",
        "    return sum(values)\n",
        "\n",
        "print(\"Sum of contributions:\", family_sum(1200, 800, 450))"
      ],
      "metadata": {
        "id": "vwNO0UebRDVa"
      },
      "execution_count": null,
      "outputs": []
    },
    {
      "cell_type": "code",
      "source": [
        "def show_details(**kwargs):\n",
        "    for k, v in kwargs.items():\n",
        "        print(f\"{k} : {v}\")\n",
        "\n",
        "city=input('enter the city your family lives ')\n",
        "country=input('enter the country your family lives ')\n",
        "show_details(family_members=family_size , City=city,country=country)"
      ],
      "metadata": {
        "colab": {
          "base_uri": "https://localhost:8080/"
        },
        "id": "-XQHEoMBRFqp",
        "outputId": "48dc6a72-20ae-4684-ee63-83996c6bf4a1"
      },
      "execution_count": null,
      "outputs": [
        {
          "output_type": "stream",
          "name": "stdout",
          "text": [
            "enter the city your family lives Islamabad\n",
            "enter the country your family lives Pakistan\n",
            "family_members : 6\n",
            "City : Islamabad\n",
            "country : Pakistan\n"
          ]
        }
      ]
    },
    {
      "cell_type": "code",
      "source": [
        "garden_plots = [3, 4, 5, 6, 7]\n",
        "areas = list(map(lambda x: x * x, garden_plots))\n",
        "print(\"Plot sides:\", garden_plots)\n",
        "print(\"Squared areas:\", areas)"
      ],
      "metadata": {
        "id": "JyPJuKnBStv0"
      },
      "execution_count": null,
      "outputs": []
    },
    {
      "cell_type": "markdown",
      "source": [
        "Check weather the age is entered correcyly or not"
      ],
      "metadata": {
        "id": "jQA5TQKgS0Ai"
      }
    },
    {
      "cell_type": "code",
      "source": [
        "try:\n",
        "    age_guess = int(input(\"Guess my age: \"))\n",
        "    print(\"You entered:\", age_guess)\n",
        "except ValueError:\n",
        "    print(\"That's not an integer.\")"
      ],
      "metadata": {
        "colab": {
          "base_uri": "https://localhost:8080/"
        },
        "id": "yW8JNVQrSyaS",
        "outputId": "cec9b5c2-17c1-4bb7-9bad-db689e6fd106"
      },
      "execution_count": null,
      "outputs": [
        {
          "output_type": "stream",
          "name": "stdout",
          "text": [
            "Guess my age: yut\n",
            "That's not an integer.\n"
          ]
        }
      ]
    },
    {
      "cell_type": "markdown",
      "source": [
        "**Number Systems: Dec | Oct | Hex | Binary Table**"
      ],
      "metadata": {
        "id": "5iTmns1QTN_x"
      }
    },
    {
      "cell_type": "code",
      "source": [
        "def print_formatted(number: int) -> None:\n",
        "    width = len(bin(number)[2:])\n",
        "    for i in range(1, number + 1):\n",
        "        dec_ = str(i).rjust(width)\n",
        "        oct_ = oct(i)[2:].rjust(width)\n",
        "        hex_ = hex(i)[2:].upper().rjust(width)\n",
        "        bin_ = bin(i)[2:].rjust(width)\n",
        "        print(dec_, oct_, hex_, bin_)\n",
        "\n",
        "limit = int(input(\"Print table up to which number? \"))\n",
        "print_formatted(limit)"
      ],
      "metadata": {
        "id": "5SPUPr4RTOci"
      },
      "execution_count": null,
      "outputs": []
    },
    {
      "cell_type": "markdown",
      "source": [
        "Find the time since you attended last family wedding"
      ],
      "metadata": {
        "id": "t4HE7FKpTbrC"
      }
    },
    {
      "cell_type": "code",
      "source": [
        "from datetime import datetime\n",
        "\n",
        "def day_diff(date1: datetime, date2: datetime) -> int:\n",
        "    return abs((date2 - date1).days) + 1\n",
        "\n",
        "print(\"Enter today's date and the date you attended last family wedding \")\n",
        "\n",
        "d1 = datetime.fromisoformat(input(\"Date 1: \"))\n",
        "d2 = datetime.fromisoformat(input(\"Date 2: \"))\n",
        "print(\"Day difference (inclusive):\", day_diff(d1, d2))"
      ],
      "metadata": {
        "colab": {
          "base_uri": "https://localhost:8080/"
        },
        "id": "MpbZVSnUTZgr",
        "outputId": "57ce14b8-cae7-467c-a6db-a971757230a6"
      },
      "execution_count": null,
      "outputs": [
        {
          "output_type": "stream",
          "name": "stdout",
          "text": [
            "Enter today's date and the date you attended last family wedding \n",
            "Enter two dates as YYYY-MM-DD\n",
            "Date 1: 2024-12-23\n",
            "Date 2: 2025-08-17\n",
            "Day difference (inclusive): 238\n"
          ]
        }
      ]
    },
    {
      "cell_type": "code",
      "source": [
        "def character_frequency(text: str):\n",
        "    return {ch: text.count(ch) for ch in set(text)}\n",
        "\n",
        "name_text = input(\"Enter a name or phrase: \")\n",
        "freq_map = character_frequency(name_text)\n",
        "print(\", \".join([f\"{k}=>{v}\" for k, v in freq_map.items()]))"
      ],
      "metadata": {
        "colab": {
          "base_uri": "https://localhost:8080/"
        },
        "id": "JGxdSoq4Ujt4",
        "outputId": "e73c5b5e-f6e6-43a0-975c-141243ba65c1"
      },
      "execution_count": null,
      "outputs": [
        {
          "output_type": "stream",
          "name": "stdout",
          "text": [
            "Enter a name or phrase: this is a long phrase to checkhowmany characters appear and their frequency \n",
            "o=>3, q=>1, y=>2, h=>6, m=>1, s=>4, c=>5, i=>3,  =>12, d=>1, l=>1, p=>3, r=>6, e=>7, f=>1, g=>1, t=>4, u=>1, n=>4, w=>1, a=>8, k=>1\n"
          ]
        }
      ]
    },
    {
      "cell_type": "markdown",
      "source": [
        "Your grand father has set password as his name in reverse , Find the password ?"
      ],
      "metadata": {
        "id": "jcOL4-L_VQaR"
      }
    },
    {
      "cell_type": "code",
      "source": [
        "def reverse_text(s: str) -> str:\n",
        "    return s[::-1]\n",
        "\n",
        "print(\"Reversed:\", reverse_text(input(\"Enter the Grand-father's name to reverse: \")))"
      ],
      "metadata": {
        "id": "eIyqd-xIU3pl"
      },
      "execution_count": null,
      "outputs": []
    },
    {
      "cell_type": "code",
      "source": [
        "def is_vowel_sandwich(word: str) -> bool:\n",
        "    vowels = set(\"aeiouAEIOU\")\n",
        "    if len(word) != 3:\n",
        "        return False\n",
        "    return (word[0] not in vowels) and (word[1] in vowels) and (word[2] not in vowels)\n",
        "\n",
        "print(\"bat ->\", is_vowel_sandwich(\"bat\"))\n",
        "print(\"dog ->\", is_vowel_sandwich(\"dog\"))\n",
        "print(\"coat ->\", is_vowel_sandwich(\"coat\"))"
      ],
      "metadata": {
        "colab": {
          "base_uri": "https://localhost:8080/"
        },
        "id": "W2eMj24_VfT9",
        "outputId": "b0a3ea2e-6bb9-4ddb-b6b3-204f71ddf343"
      },
      "execution_count": null,
      "outputs": [
        {
          "output_type": "stream",
          "name": "stdout",
          "text": [
            "bat -> True\n",
            "dog -> True\n",
            "coat -> False\n"
          ]
        }
      ]
    },
    {
      "cell_type": "code",
      "source": [
        "def get_decimal_places(value) -> int:\n",
        "    s = str(value)\n",
        "    return len(s.split(\".\")[1]) if \".\" in s else 0\n",
        "\n",
        "a=input('Enter your Semester GPA\\t:\\\\')\n",
        "print(f'Your Semester GPA has ->\\t{get_decimal_places(a)} decimal places')"
      ],
      "metadata": {
        "colab": {
          "base_uri": "https://localhost:8080/"
        },
        "id": "OEigUu9eV0hq",
        "outputId": "c7dc370a-7cbd-495b-9fd4-4c67e00a22f3"
      },
      "execution_count": null,
      "outputs": [
        {
          "output_type": "stream",
          "name": "stdout",
          "text": [
            "Enter your Semester GPA\t:\t2.989\n",
            "Your Semester GPA has ->\t3 decimal places\n"
          ]
        }
      ]
    },
    {
      "cell_type": "markdown",
      "source": [
        "**Count 1s in Binary (bit count) of your Grand Mothers age**"
      ],
      "metadata": {
        "id": "wb9s_vhQV-f_"
      }
    },
    {
      "cell_type": "code",
      "source": [
        "def count_ones(n: int) -> int:\n",
        "    print(\"Binary:\", bin(n))\n",
        "    return bin(n).count(\"1\")\n",
        "\n",
        "val = int(input(\"Grand Mothers age : \"))\n",
        "print(\"Number of 1s:\", count_ones(val))"
      ],
      "metadata": {
        "colab": {
          "base_uri": "https://localhost:8080/"
        },
        "id": "OIyNLsfMWRb7",
        "outputId": "6c019be6-8960-431d-bcc4-ab98080c8e1f"
      },
      "execution_count": null,
      "outputs": [
        {
          "output_type": "stream",
          "name": "stdout",
          "text": [
            "Grand Mothers age : 67\n",
            "Binary: 0b1000011\n",
            "Number of 1s: 3\n"
          ]
        }
      ]
    },
    {
      "cell_type": "markdown",
      "source": [
        "**Display the prices of your shopping items as a CSV Format**\n"
      ],
      "metadata": {
        "id": "PojtnC0dWC8r"
      }
    },
    {
      "cell_type": "code",
      "source": [
        "def array_to_csv(arr): # comma seperated\n",
        "    return \", \".join(map(str, arr))\n",
        "\n",
        "shopping_items_prices_indiv = input().split()\n",
        "shopping_items_prices = list(map(float, shopping_items_prices_indiv))\n",
        "print(array_to_csv(shopping_items_prices))\n"
      ],
      "metadata": {
        "colab": {
          "base_uri": "https://localhost:8080/"
        },
        "id": "HR1lgGORXosV",
        "outputId": "fd9e56f8-7767-4b90-86cf-ade61defdf44"
      },
      "execution_count": null,
      "outputs": [
        {
          "output_type": "stream",
          "name": "stdout",
          "text": [
            "67 45 34.8 67.5 43 96.5\n",
            "67.0, 45.0, 34.8, 67.5, 43.0, 96.5\n"
          ]
        }
      ]
    },
    {
      "cell_type": "markdown",
      "source": [
        "**Check whether the prices are sorted in descending order**"
      ],
      "metadata": {
        "id": "Jnw1SmtsYKK9"
      }
    },
    {
      "cell_type": "code",
      "source": [
        "def is_sorted_ascending(arr) -> bool:\n",
        "    return all(arr[i] <= arr[i+1] for i in range(len(arr) - 1))\n",
        "\n",
        "print(shopping_items_prices, \"->\", \"SORTED\" if is_sorted_ascending(shopping_items_prices) else \"NOT SORTED\")\n"
      ],
      "metadata": {
        "colab": {
          "base_uri": "https://localhost:8080/"
        },
        "id": "gofRwAPnYKwn",
        "outputId": "42305b20-a93f-4ea2-cd87-a991c3f1773f"
      },
      "execution_count": null,
      "outputs": [
        {
          "output_type": "stream",
          "name": "stdout",
          "text": [
            "[67.0, 45.0, 34.8, 67.5, 43.0, 96.5] -> NOT SORTED\n"
          ]
        }
      ]
    },
    {
      "cell_type": "markdown",
      "source": [
        "**Remove duplicate characters from your Name**"
      ],
      "metadata": {
        "id": "BsRzwOrHbf1p"
      }
    },
    {
      "cell_type": "code",
      "source": [
        "def remove_duplicates_from_string(s: str) -> str:\n",
        "    seen = set()\n",
        "    out = []\n",
        "    for ch in s:\n",
        "        if ch not in seen:\n",
        "            seen.add(ch)\n",
        "            out.append(ch)\n",
        "    return ''.join(out)\n",
        "\n",
        "name=input('Enter your full name : ')\n",
        "print(remove_duplicates_from_string(name.strip('')))\n",
        "print(f'Congratulations on completing the notebook  {name} , I hope you enjoyed going through the snippets ')\n"
      ],
      "metadata": {
        "colab": {
          "base_uri": "https://localhost:8080/"
        },
        "id": "IpiYNtQrbggA",
        "outputId": "1bfa2ae7-f2d8-46fa-937c-ba9bb40aa5b1"
      },
      "execution_count": null,
      "outputs": [
        {
          "output_type": "stream",
          "name": "stdout",
          "text": [
            "Enter your full name : your firstmiddle last name\n",
            "your fistmdlean\n",
            "Congratulations on completing the notebook  your firstmiddle last name , I hope you enjoyed going through the snippets \n"
          ]
        }
      ]
    }
  ]
}