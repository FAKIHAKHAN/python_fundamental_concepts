{
  "nbformat": 4,
  "nbformat_minor": 0,
  "metadata": {
    "colab": {
      "provenance": [],
      "include_colab_link": true
    },
    "kernelspec": {
      "name": "python3",
      "display_name": "Python 3"
    },
    "language_info": {
      "name": "python"
    }
  },
  "cells": [
    {
      "cell_type": "markdown",
      "metadata": {
        "id": "view-in-github",
        "colab_type": "text"
      },
      "source": [
        "<a href=\"https://colab.research.google.com/github/FAKIHAKHAN/python_fundamental_concepts/blob/main/Python_Assignment.ipynb\" target=\"_parent\"><img src=\"https://colab.research.google.com/assets/colab-badge.svg\" alt=\"Open In Colab\"/></a>"
      ]
    },
    {
      "cell_type": "markdown",
      "source": [
        "# Python Assignment"
      ],
      "metadata": {
        "id": "mLgfM7mI7t7O"
      }
    },
    {
      "cell_type": "markdown",
      "source": [
        "Given a list of integers, return the largest difference between any two elements, where the larger element appears after the smaller one. If no such pair exists, return 0."
      ],
      "metadata": {
        "id": "a9jbSWyFMNA1"
      }
    },
    {
      "cell_type": "code",
      "source": [
        "val=[1,-1,200]\n",
        "def max_diff_i(arr,inx):\n",
        " # create a function to calculate maximum difference for each element in list\n",
        "  max_diff=abs(arr[inx]-arr[0])\n",
        "  for j in val:\n",
        "    diff=abs(arr[inx]-arr[j])\n",
        "    if max_diff < diff:\n",
        "      max_diff=diff\n",
        "\n",
        "    return max_diff\n",
        "\n",
        "max_diff=max_diff_i(val,0)\n",
        "# iterate k no. of times to calculate maximum difference for each element in\n",
        "# list (k is no.of elements of list)\n",
        "for i in range(len(val)):\n",
        "  max_temp=max_diff_i(val,i)\n",
        "  if max_temp>max_diff:\n",
        "    max_diff=max_temp\n",
        "\n",
        "print(max_diff)\n"
      ],
      "metadata": {
        "colab": {
          "base_uri": "https://localhost:8080/"
        },
        "id": "Gs7QttP9GFlb",
        "outputId": "7499844e-8283-4afe-fdc6-8f6d6e0e4578"
      },
      "execution_count": null,
      "outputs": [
        {
          "output_type": "stream",
          "name": "stdout",
          "text": [
            "201\n"
          ]
        }
      ]
    },
    {
      "cell_type": "markdown",
      "source": [
        "Given a string, return the first non-repeating character. If there are no non-repeating characters, return None."
      ],
      "metadata": {
        "id": "YbvufobZVjPk"
      }
    },
    {
      "cell_type": "code",
      "source": [
        "string=input()\n",
        "# Use list to store each character seperately\n",
        "str_list=list(string)\n",
        "# if the character appears more than once continue to check else break\n",
        "for inx in str_list:\n",
        "  if str_list.count(inx)>1:\n",
        "    continue\n",
        "  else:\n",
        "    print(inx)\n",
        "    break\n",
        "else:\n",
        "  print('None')"
      ],
      "metadata": {
        "colab": {
          "base_uri": "https://localhost:8080/"
        },
        "id": "KexT649VL-_H",
        "outputId": "439c06b9-d13c-4182-fa6a-97f91680aca6"
      },
      "execution_count": null,
      "outputs": [
        {
          "output_type": "stream",
          "name": "stdout",
          "text": [
            "ertytreuhygyhja\n",
            "u\n"
          ]
        }
      ]
    },
    {
      "cell_type": "markdown",
      "source": [
        "Given two strings, write a function to check if one is a permutation of the other. Return True if they are permutations, False otherwise.\n",
        "\n",
        "**Input**: \"abc\", \"bca\"\n",
        "\n",
        "**Output**: True\n"
      ],
      "metadata": {
        "id": "RBcIRUPeWv3i"
      }
    },
    {
      "cell_type": "code",
      "source": [
        "str1=input('enter string 1:')\n",
        "str2=input('enter string 2:')\n",
        "# store string to list and sort. If the characters are in different order, the list becomes Equal\n",
        "list_str1=sorted(list(str1))\n",
        "list_str2=sorted(list(str2))\n",
        "if list_str1==list_str2:\n",
        "  print('True')\n",
        "else:\n",
        "  print('False')"
      ],
      "metadata": {
        "colab": {
          "base_uri": "https://localhost:8080/"
        },
        "id": "zJiQF_bQWuXd",
        "outputId": "70617706-5a3c-4be1-84af-e25460804ca9"
      },
      "execution_count": null,
      "outputs": [
        {
          "output_type": "stream",
          "name": "stdout",
          "text": [
            "enter string 1:qwerty\n",
            "enter string 2:yrewtq\n",
            "list 1 is ['e', 'q', 'r', 't', 'w', 'y']\n",
            "list 2 is ['e', 'q', 'r', 't', 'w', 'y']\n",
            "True\n"
          ]
        }
      ]
    },
    {
      "cell_type": "markdown",
      "source": [
        "\n",
        "Given a list of integers, return the second largest unique number. If no second largest unique number exists, return None.\n",
        "\n",
        "Example:\n",
        "\n",
        "**Input:** [4, 5, 6, 6, 7]\n",
        "\n",
        "**Output:** 6\n"
      ],
      "metadata": {
        "id": "1WZXFBqnY6J2"
      }
    },
    {
      "cell_type": "code",
      "source": [
        "arr= [4, 5, 6, 6,8, 0,12,12,8, 7]\n",
        "# arr =[5,4,4,5,5,5,4] # to check for exception case\n",
        "arr_set=sorted(set(arr))\n",
        "print(arr_set)\n",
        "arr_set.pop()\n",
        "print(max(arr_set))\n",
        "if len(arr_set)<2:\n",
        "  print('None')\n"
      ],
      "metadata": {
        "colab": {
          "base_uri": "https://localhost:8080/"
        },
        "id": "FxR_yO51Yivo",
        "outputId": "abe96048-bf63-49b8-8b03-372815f2f81a"
      },
      "execution_count": null,
      "outputs": [
        {
          "output_type": "stream",
          "name": "stdout",
          "text": [
            "[4, 5]\n",
            "4\n",
            "None\n"
          ]
        }
      ]
    },
    {
      "cell_type": "markdown",
      "source": [
        "Given a list of integers and a target sum, count how many distinct pairs of integers in the list sum up to the target.\n",
        "\n",
        "Example:\n",
        "\n",
        "**Input:** [1, 2, 3, 4, 3, 6],\n",
        "\n",
        "**Target:** 6\n",
        "**Output:** 2\n",
        "\n",
        "**Explanation:** The pairs (2, 4) and (1, 5) sum up to 6.\n"
      ],
      "metadata": {
        "id": "1XQ9oL5SrTBO"
      }
    },
    {
      "cell_type": "code",
      "source": [
        "input_list = [1, 2, 3, 4, 3, 6]\n",
        "target = 6\n",
        "pair_str = [] # to store pair values\n",
        "\n",
        "add = lambda a, b: a + b\n",
        "\n",
        "for j in range(len(input_list)):\n",
        "    for i in range(j + 1, len(input_list)):\n",
        "       # # to view all pairs created\n",
        "        # print(f'Sum of {input_list[j]} and {input_list[i]} is {add(input_list[j], input_list[i])}')\n",
        "        if add(input_list[j], input_list[i]) == target:\n",
        "            pair_str.append([input_list[j], input_list[i]])\n",
        "\n",
        "print(\"Distinct pairs of integers summing to target are = \", len(pair_str))"
      ],
      "metadata": {
        "colab": {
          "base_uri": "https://localhost:8080/"
        },
        "id": "wyihKI5tsJpx",
        "outputId": "cbdb7a07-2687-4357-96a0-2fea5f2b2a93"
      },
      "execution_count": null,
      "outputs": [
        {
          "output_type": "stream",
          "name": "stdout",
          "text": [
            "Distinct pairs of integers summing to target are =  2\n"
          ]
        }
      ]
    },
    {
      "cell_type": "markdown",
      "source": [
        " Given a list of integers, remove all duplicates while maintaining the order of their first occurrence.\n",
        "\n",
        "Example:\n",
        "\n",
        "**Input:** [1, 2, 2, 3, 4, 5, 1]\n",
        "\n",
        "**Output:** [1, 2, 3, 4, 5]\n",
        "\n",
        "**Explanation:** Duplicates are removed, but the order of elements is preserved.\n"
      ],
      "metadata": {
        "id": "-VcK8WRPrqN2"
      }
    },
    {
      "cell_type": "code",
      "source": [
        "input_str= [1, 2, 2, 3, 4, 5, 1]\n",
        "# convert into set to remove duplicates\n",
        "input_set=set(input_str)\n",
        "print(list(input_set))"
      ],
      "metadata": {
        "colab": {
          "base_uri": "https://localhost:8080/"
        },
        "id": "BGmZFqwsr1KN",
        "outputId": "f1d835be-e780-45dc-e526-4c880f842e8c"
      },
      "execution_count": null,
      "outputs": [
        {
          "output_type": "stream",
          "name": "stdout",
          "text": [
            "[1, 2, 3, 4, 5]\n"
          ]
        }
      ]
    },
    {
      "cell_type": "markdown",
      "source": [
        "Given a list of integers, return all possible subsets (the power set) of the list.\n",
        "\n",
        "**Example:**\n",
        "\n",
        "**Input:** [1, 2, 3]\n",
        "\n",
        "**Output:** [[], [1], [2], [3], [1, 2], [1, 3], [2, 3], [1, 2, 3]]\n",
        "\n",
        "**Explanation:** The function returns all subsets of the list.\n"
      ],
      "metadata": {
        "id": "AwBABGb8r5pY"
      }
    },
    {
      "cell_type": "code",
      "source": [
        "input_str= [1,2,3]\n",
        "# create the subsets set\n",
        "set_i=[[],input_str]\n",
        "for i in range(len(input_str)):\n",
        "  set_i.append([input_str[i]])\n",
        "  for j in range(len(input_str)):\n",
        "    # create a temporary list that contains combinations\n",
        "    temp_list=[input_str[i],input_str[j]]\n",
        "    # sort combination to remove redundancy\n",
        "    temp_list=sorted(temp_list)\n",
        "    if i!=j:\n",
        "      if temp_list not in set_i:\n",
        "        set_i.append(temp_list)\n",
        "\n",
        "# sort the list based on length of its elements\n",
        "print(sorted(set_i,key=lambda setl: len(setl[:])))"
      ],
      "metadata": {
        "colab": {
          "base_uri": "https://localhost:8080/"
        },
        "id": "PNkan65i6OJA",
        "outputId": "b945c898-6e0d-41d3-d718-56dcc87fe2f3"
      },
      "execution_count": null,
      "outputs": [
        {
          "output_type": "stream",
          "name": "stdout",
          "text": [
            "[[], [1, 2, 3], [1], [1, 2], [1, 3], [2], [2, 3], [3]]\n"
          ]
        }
      ]
    },
    {
      "cell_type": "markdown",
      "source": [
        "Given a list of integers, find the length of the longest subsequence of strictly increasing elements.\n",
        "\n",
        "Example:\n",
        "\n",
        "**Input:** [10, 9, 2, 5, 3, 7, 101, 18]\n",
        "\n",
        "**Output:** 4\n",
        "\n",
        "**Explanation:** The longest increasing subsequence is [2, 3, 7, 101].\n"
      ],
      "metadata": {
        "id": "Pfoupo2NCTOr"
      }
    },
    {
      "cell_type": "code",
      "source": [
        "nums = [10, 9, 2, 5, 3, 7, 101, 18]\n",
        "n = len(nums)\n",
        "dp = [1] * n\n",
        "\n",
        "for i in range(1, n):\n",
        "    for j in range(i):\n",
        "        if nums[i] > nums[j]:\n",
        "          dp[i] = max(dp[i], dp[j] + 1)\n",
        "\n",
        "print(max(dp))"
      ],
      "metadata": {
        "colab": {
          "base_uri": "https://localhost:8080/"
        },
        "id": "kLa3gPqTCh1F",
        "outputId": "3623c9d9-593a-4fd7-f22d-e8692d6519ab"
      },
      "execution_count": null,
      "outputs": [
        {
          "output_type": "stream",
          "name": "stdout",
          "text": [
            "4\n"
          ]
        }
      ]
    },
    {
      "cell_type": "markdown",
      "source": [
        "Given a list of integers, return the maximum product of any two numbers in the list.\n",
        "\n",
        "**Input:** [1, 10, -5, 1, 100]\n",
        "\n",
        "**Output:** 1000\n",
        "\n",
        "**Explanation:** The largest product comes from 10 * 100 = 1000.\n"
      ],
      "metadata": {
        "id": "4ZErUYIzLbiv"
      }
    },
    {
      "cell_type": "code",
      "source": [
        "val = [1, 10, -5, 5,-10, 100]\n",
        "max_product = 0\n",
        "\n",
        "for i in range(len(val)):\n",
        "    for j in range(i + 1, len(val)):\n",
        "        product = val[i] * val[j]\n",
        "        if product > max_product:\n",
        "            max_product = product\n",
        "\n",
        "print(max_product)\n",
        "\n"
      ],
      "metadata": {
        "colab": {
          "base_uri": "https://localhost:8080/"
        },
        "id": "aVSi-jMOLcR0",
        "outputId": "6eac2691-5d19-4bf3-a457-6ecb1c67b995"
      },
      "execution_count": null,
      "outputs": [
        {
          "output_type": "stream",
          "name": "stdout",
          "text": [
            "1000\n"
          ]
        }
      ]
    },
    {
      "cell_type": "markdown",
      "source": [
        "Given a string, return the character that appears most frequently. If there is a tie, return the lexicographically smallest character.\n",
        "\n",
        "**Input:** \"aabbbc\"\n",
        "\n",
        "**Output:** 'b'\n",
        "\n",
        "**Explanation:** The most frequent character is 'b'.\n"
      ],
      "metadata": {
        "id": "HfDiciIPLctZ"
      }
    },
    {
      "cell_type": "code",
      "source": [
        "s=input('enter a string : \\t')\n",
        "s_l=sorted(list(s))\n",
        "j = [[x, 0] for x in s_l]\n",
        "for k in range(len(s_l)):\n",
        "  j[k][1]=s_l.count(s_l[k])\n",
        "# convert from tuple to set to remove duplicates\n",
        "# convert from set to list to access using index\n",
        "unique_data = list(set(tuple(row) for row in j))\n",
        "print(f'Most frequently occuring character in the string is :\\t {sorted(unique_data, key=lambda x: (-x[1], x[0]))[0][0]}')"
      ],
      "metadata": {
        "id": "3Llu84BGL3XX",
        "colab": {
          "base_uri": "https://localhost:8080/"
        },
        "outputId": "477fbc0e-79b8-413f-fdd9-92a77cb058b6"
      },
      "execution_count": null,
      "outputs": [
        {
          "output_type": "stream",
          "name": "stdout",
          "text": [
            "enter a string : mynameis fakihai ambadperson\n",
            "Most frequently occuringcharacter in the string is :\t a\n"
          ]
        }
      ]
    },
    {
      "cell_type": "markdown",
      "source": [
        "Write a function that prints all prime numbers less than a given number n.\n",
        "\n",
        "\n",
        "**Input:** 10\n",
        "\n",
        "**Output:** 2, 3, 5, 7\n"
      ],
      "metadata": {
        "id": "lZ4r-4NcL3yK"
      }
    },
    {
      "cell_type": "code",
      "source": [
        "n=int(input('enter a no. '))\n",
        "for num in range(2, n):\n",
        "    for i in range(2, int(num**0.5) + 1):\n",
        "        if num % i == 0:\n",
        "            break\n",
        "    else:\n",
        "        print(num, end=' ')\n",
        "print()\n",
        "\n"
      ],
      "metadata": {
        "id": "-MwmF736MGNr",
        "colab": {
          "base_uri": "https://localhost:8080/"
        },
        "outputId": "de624a71-f498-4dca-bda9-31f74f3cf9ad"
      },
      "execution_count": null,
      "outputs": [
        {
          "output_type": "stream",
          "name": "stdout",
          "text": [
            "enter a no. 7\n",
            "2 3 5 \n"
          ]
        }
      ]
    },
    {
      "cell_type": "markdown",
      "source": [
        "Write a function that takes a variable number of arguments (*args) and returns the sum of all the numbers.\n",
        "\n",
        "**Input:** (2, 3, 4)\n",
        "\n",
        "**Output:** 9\n",
        "\n",
        "**Explanation:** The sum of 2 + 3 + 4 is 9.\n"
      ],
      "metadata": {
        "id": "PW22KmoPMJWC"
      }
    },
    {
      "cell_type": "code",
      "source": [
        "def add(*args):\n",
        "    return sum(args)\n",
        "\n",
        "add(2,3,5)"
      ],
      "metadata": {
        "id": "IF7oOUx3MSKH",
        "colab": {
          "base_uri": "https://localhost:8080/"
        },
        "outputId": "c5e77c08-e972-4783-d026-c46ffbfd2e12"
      },
      "execution_count": null,
      "outputs": [
        {
          "output_type": "execute_result",
          "data": {
            "text/plain": [
              "10"
            ]
          },
          "metadata": {},
          "execution_count": 46
        }
      ]
    },
    {
      "cell_type": "markdown",
      "source": [
        "Given a dictionary of students' names and their scores, write a function that returns the name of the student with the highest score.\n",
        "\n",
        "**Input:**\n",
        "{\"Alice\": 85, \"Bob\": 90, \"Charlie\": 92}\n",
        "\n",
        "**Output:** \"Charlie\"\n"
      ],
      "metadata": {
        "id": "yyr02knBMcIn"
      }
    },
    {
      "cell_type": "code",
      "source": [
        "def highest_score(students):\n",
        "  max_score=max(students.values())\n",
        "  for name, score in students.items():\n",
        "    if score == max_score:\n",
        "        print(f'{name} achieved Highest marks')\n",
        "        break  # stops at first match\n",
        "\n",
        "\n",
        "students={\"Alice\": 85, \"Bob\": 90, \"Charlie\": 92}\n",
        "\n",
        "highest_score(students)\n"
      ],
      "metadata": {
        "id": "VGiEjOuuMiW7",
        "colab": {
          "base_uri": "https://localhost:8080/"
        },
        "outputId": "b4f90733-fc6a-46d3-8bc5-040a4506d843"
      },
      "execution_count": null,
      "outputs": [
        {
          "output_type": "stream",
          "name": "stdout",
          "text": [
            "Charlie achieved Highests scores\n"
          ]
        }
      ]
    },
    {
      "cell_type": "markdown",
      "source": [
        "Write a function that takes a list of integers and a lambda function, and returns a new list where the lambda function is applied to each element of the list.\n",
        "\n",
        "**Input:**\n",
        "[1, 2, 3, 4], Lambda: lambda x: x ** 2\n",
        "\n",
        "**Output:**\n",
        "[1, 4, 9, 16]\n",
        "\n",
        "**Explanation:**\n",
        "\n",
        "Each number is squared by the lambda function.\n"
      ],
      "metadata": {
        "id": "SPW0JAHIMsDe"
      }
    },
    {
      "cell_type": "code",
      "source": [
        "def apply_lambda(nums, func):\n",
        "    return list(map(func, nums))\n",
        "\n",
        "n=int(input('Enter the length of list : '))\n",
        "arr = map(float, input(f'Enter {n} scores of students (space between scores)').split())\n",
        "arr=list(arr)\n",
        "result = apply_lambda(arr, lambda x: x ** 2)\n",
        "print(result)"
      ],
      "metadata": {
        "id": "N4Rrd2b5M0_l",
        "colab": {
          "base_uri": "https://localhost:8080/"
        },
        "outputId": "e447f61f-eb7d-4d50-f1c3-3d547a44f162"
      },
      "execution_count": null,
      "outputs": [
        {
          "output_type": "stream",
          "name": "stdout",
          "text": [
            "Enter the length of list :4\n",
            "Enter 4 scores of students (space between scores)8 6 5 3\n",
            "[64.0, 36.0, 25.0, 9.0]\n"
          ]
        }
      ]
    },
    {
      "cell_type": "markdown",
      "source": [
        "Write a function that takes a variable-length list of numbers (*args) and an optional keyword argument operation. If operation='multiply', return the product of all the numbers; otherwise, return their sum.\n",
        "\n",
        "**Input:** (1, 2, 3, 4), operation='multiply'\n",
        "\n",
        "**Output:** 24\n",
        "\n",
        "**Explanation:** The product of the numbers 1 * 2 * 3 * 4 is 24.\n"
      ],
      "metadata": {
        "id": "hDo4mrdrM5Gx"
      }
    },
    {
      "cell_type": "code",
      "source": [
        "def calculate(*args, operation='sum'):\n",
        "    if operation == 'multiply':\n",
        "        result = 1\n",
        "        for num in args:\n",
        "            result *= num\n",
        "        return result\n",
        "    else:\n",
        "        return sum(args)\n",
        "\n",
        "print(calculate(12,34,56, operation='multiply'))  # Output: 24\n",
        "print(calculate(12,34,56))"
      ],
      "metadata": {
        "id": "T7fjYpFFNGkO",
        "colab": {
          "base_uri": "https://localhost:8080/"
        },
        "outputId": "e1142c71-9dd0-4c9a-ce4f-0aa25e4f9899"
      },
      "execution_count": null,
      "outputs": [
        {
          "output_type": "stream",
          "name": "stdout",
          "text": [
            "22848\n",
            "102\n"
          ]
        }
      ]
    }
  ]
}